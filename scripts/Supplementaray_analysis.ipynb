{
 "cells": [
  {
   "cell_type": "markdown",
   "id": "401a84be-cb3b-4f23-9872-add5da92ccc9",
   "metadata": {},
   "source": [
    "# In-vivo evidence for increased tau deposition in temporal lobe epilepsy\n",
    "\n",
    "### Content\n",
    "1. Subcortical analysis\n",
    "1. Hippocampal analysis\n",
    "1. Mediation analysis\n",
    "1. Sex analysis\n"
   ]
  },
  {
   "cell_type": "code",
   "execution_count": 1,
   "id": "6ff723ca-a4ea-4dea-a335-c2b672cda7e3",
   "metadata": {},
   "outputs": [],
   "source": [
    "# Libraries\n",
    "import seaborn as sns\n",
    "import matplotlib.pyplot as plt\n",
    "from scipy.stats import ttest_ind\n",
    "from brainspace.plotting import plot_hemispheres\n",
    "from osfclient import OSF\n",
    "\n",
    "# Load utilities functions from utils.py\n",
    "from utils import *"
   ]
  },
  {
   "cell_type": "markdown",
   "id": "f03b18fc-24c3-4817-83ab-66af0f6acaa8",
   "metadata": {},
   "source": [
    "### Fetch data"
   ]
  },
  {
   "cell_type": "code",
   "execution_count": 2,
   "id": "339de67b-48cb-4f33-b861-cee98b21f85b",
   "metadata": {},
   "outputs": [
    {
     "name": "stdout",
     "output_type": "stream",
     "text": [
      "Found file: 18F-MK6240_in-vivo_database.csv\n"
     ]
    },
    {
     "name": "stderr",
     "output_type": "stream",
     "text": [
      "100%|██████████████████████████████████████████████████████████████████████████████████████████████| 12.3k/12.3k [00:00<00:00, 10.8Mbytes/s]\n"
     ]
    },
    {
     "name": "stdout",
     "output_type": "stream",
     "text": [
      "Downloaded 18F-MK6240_in-vivo_database.csv to /host/yeatman/local_raid/temporaryLocalProcessing/tmpfkwa7gi4/18F-MK6240_in-vivo_database.csv\n"
     ]
    },
    {
     "ename": "RuntimeError",
     "evalue": "Response has status code 502 not (200,)",
     "output_type": "error",
     "traceback": [
      "\u001b[31m---------------------------------------------------------------------------\u001b[39m",
      "\u001b[31mRuntimeError\u001b[39m                              Traceback (most recent call last)",
      "\u001b[36mCell\u001b[39m\u001b[36m \u001b[39m\u001b[32mIn[2]\u001b[39m\u001b[32m, line 6\u001b[39m\n\u001b[32m      3\u001b[39m df = pd.read_csv(osf_df)\n\u001b[32m      5\u001b[39m \u001b[38;5;66;03m# Load processed 18F-MK6240 PET data | matrix:{vertices x subjects}\u001b[39;00m\n\u001b[32m----> \u001b[39m\u001b[32m6\u001b[39m osf_pet_raw = \u001b[43mosf_download\u001b[49m\u001b[43m(\u001b[49m\u001b[33;43m\"\u001b[39;49m\u001b[33;43msurf-fsLR-32k_desc-GroupData_smooth-10mm_pvc-probGM_ref-cerebellarGM_trc-18Fmk6240_pet.npy\u001b[39;49m\u001b[33;43m\"\u001b[39;49m\u001b[43m,\u001b[49m\u001b[43m \u001b[49m\u001b[43mproject_id\u001b[49m\u001b[43m=\u001b[49m\u001b[33;43m'\u001b[39;49m\u001b[33;43mct3gw\u001b[39;49m\u001b[33;43m'\u001b[39;49m\u001b[43m)\u001b[49m\n\u001b[32m      7\u001b[39m pet_raw = np.load(osf_pet_raw)\n\u001b[32m      9\u001b[39m \u001b[38;5;66;03m# Load the cortical thickness data | matrix:{vertices x subjects}\u001b[39;00m\n",
      "\u001b[36mFile \u001b[39m\u001b[32m/host/yeatman/local_raid/rcruces/git_here/2025_in-vivo_tauPET-mk6240_TLE/scripts/utils.py:952\u001b[39m, in \u001b[36mosf_download\u001b[39m\u001b[34m(name, project_id)\u001b[39m\n\u001b[32m    949\u001b[39m project = osf.project(project_id)\n\u001b[32m    951\u001b[39m \u001b[38;5;66;03m# Get the default storage (osfstorage)\u001b[39;00m\n\u001b[32m--> \u001b[39m\u001b[32m952\u001b[39m storage = \u001b[43mproject\u001b[49m\u001b[43m.\u001b[49m\u001b[43mstorage\u001b[49m\u001b[43m(\u001b[49m\u001b[33;43m'\u001b[39;49m\u001b[33;43mosfstorage\u001b[39;49m\u001b[33;43m'\u001b[39;49m\u001b[43m)\u001b[49m\n\u001b[32m    954\u001b[39m \u001b[38;5;66;03m# List all files and filter by name\u001b[39;00m\n\u001b[32m    955\u001b[39m file_ = \u001b[38;5;28mnext\u001b[39m((f \u001b[38;5;28;01mfor\u001b[39;00m f \u001b[38;5;129;01min\u001b[39;00m storage.files \u001b[38;5;28;01mif\u001b[39;00m f.name == name), \u001b[38;5;28;01mNone\u001b[39;00m)\n",
      "\u001b[36mFile \u001b[39m\u001b[32m/data/mica1/01_programs/micapipe-v0.2.0_conda/micapipe/mk6240_2024/lib/python3.12/site-packages/osfclient/models/project.py:32\u001b[39m, in \u001b[36mProject.storage\u001b[39m\u001b[34m(self, provider)\u001b[39m\n\u001b[32m     30\u001b[39m \u001b[38;5;28;01mdef\u001b[39;00m\u001b[38;5;250m \u001b[39m\u001b[34mstorage\u001b[39m(\u001b[38;5;28mself\u001b[39m, provider=\u001b[33m'\u001b[39m\u001b[33mosfstorage\u001b[39m\u001b[33m'\u001b[39m):\n\u001b[32m     31\u001b[39m \u001b[38;5;250m    \u001b[39m\u001b[33;03m\"\"\"Return storage `provider`.\"\"\"\u001b[39;00m\n\u001b[32m---> \u001b[39m\u001b[32m32\u001b[39m     stores = \u001b[38;5;28;43mself\u001b[39;49m\u001b[43m.\u001b[49m\u001b[43m_json\u001b[49m\u001b[43m(\u001b[49m\u001b[38;5;28;43mself\u001b[39;49m\u001b[43m.\u001b[49m\u001b[43m_get\u001b[49m\u001b[43m(\u001b[49m\u001b[38;5;28;43mself\u001b[39;49m\u001b[43m.\u001b[49m\u001b[43m_storages_url\u001b[49m\u001b[43m)\u001b[49m\u001b[43m,\u001b[49m\u001b[43m \u001b[49m\u001b[32;43m200\u001b[39;49m\u001b[43m)\u001b[49m\n\u001b[32m     33\u001b[39m     stores = stores[\u001b[33m'\u001b[39m\u001b[33mdata\u001b[39m\u001b[33m'\u001b[39m]\n\u001b[32m     34\u001b[39m     \u001b[38;5;28;01mfor\u001b[39;00m store \u001b[38;5;129;01min\u001b[39;00m stores:\n",
      "\u001b[36mFile \u001b[39m\u001b[32m/data/mica1/01_programs/micapipe-v0.2.0_conda/micapipe/mk6240_2024/lib/python3.12/site-packages/osfclient/models/core.py:61\u001b[39m, in \u001b[36mOSFCore._json\u001b[39m\u001b[34m(self, response, status_code)\u001b[39m\n\u001b[32m     59\u001b[39m     \u001b[38;5;28;01mreturn\u001b[39;00m response.json()\n\u001b[32m     60\u001b[39m \u001b[38;5;28;01melse\u001b[39;00m:\n\u001b[32m---> \u001b[39m\u001b[32m61\u001b[39m     \u001b[38;5;28;01mraise\u001b[39;00m \u001b[38;5;167;01mRuntimeError\u001b[39;00m(\u001b[33m\"\u001b[39m\u001b[33mResponse has status \u001b[39m\u001b[33m\"\u001b[39m\n\u001b[32m     62\u001b[39m                        \u001b[33m\"\u001b[39m\u001b[33mcode \u001b[39m\u001b[38;5;132;01m{}\u001b[39;00m\u001b[33m not \u001b[39m\u001b[38;5;132;01m{}\u001b[39;00m\u001b[33m\"\u001b[39m.format(response.status_code,\n\u001b[32m     63\u001b[39m                                                status_code))\n",
      "\u001b[31mRuntimeError\u001b[39m: Response has status code 502 not (200,)"
     ]
    }
   ],
   "source": [
    "# Load the data frame\n",
    "osf_df = osf_download(\"18F-MK6240_in-vivo_database.csv\", project_id='ct3gw')\n",
    "df = pd.read_csv(osf_df)\n",
    "\n",
    "# Load processed 18F-MK6240 PET data | matrix:{vertices x subjects}\n",
    "osf_pet_raw = osf_download(\"surf-fsLR-32k_desc-GroupData_smooth-10mm_pvc-probGM_ref-cerebellarGM_trc-18Fmk6240_pet.npy\", project_id='ct3gw')\n",
    "pet_raw = np.load(osf_pet_raw)\n",
    "\n",
    "# Load the cortical thickness data | matrix:{vertices x subjects}\n",
    "osf_cth_raw = osf_download(\"surf-fsLR-32k_desc-GroupData_smooth-20mm_thickness.npy\", project_id='ct3gw')\n",
    "cth_raw = np.load(osf_cth_raw)\n",
    "\n",
    "# Load fsLR-32 surface\n",
    "fslr32k_lh = fetch_surface('fsLR-32k.L.surf.gii')\n",
    "fslr32k_rh = fetch_surface('fsLR-32k.R.surf.gii')\n",
    "fslr32k = fetch_template_surface(\"fslr32k\", join=True)\n",
    "\n",
    "# Load fsLR-32k middle wall mask\n",
    "fslr32k_mask = fetch_mask(\"fslr32k\")"
   ]
  },
  {
   "cell_type": "markdown",
   "id": "cebb81d8-f9de-425a-9106-a98884c8568c",
   "metadata": {},
   "source": [
    "### Sort the matrices into ipsilateral/contralateral relative to seizure focus"
   ]
  },
  {
   "cell_type": "code",
   "execution_count": null,
   "id": "f4af5cf0-e44d-43e7-8c8d-addb4dcd3081",
   "metadata": {},
   "outputs": [],
   "source": [
    "# fsLR-32k length\n",
    "n_64k = pet_raw.shape[1]\n",
    "n_32k = int(n_64k/2)\n",
    "\n",
    "# Flip R >> L 18F-mk6240\n",
    "mk_ipsi, mk_contra = flip_mat(pet_raw[:,0:n_32k], pet_raw[:,n_32k:n_64k], df['lateralization'].values, flip='R')\n",
    "\n",
    "# Flip R >> L Thickness\n",
    "th_ipsi, th_contra = flip_mat(cth_raw[:,0:n_32k], cth_raw[:,n_32k:n_64k], df['lateralization'].values, flip='R')\n",
    "\n",
    "# Merge ipsi and contra\n",
    "tauMK6240 = np.concatenate((mk_ipsi, mk_contra), axis=1)\n",
    "thickness = np.concatenate((th_ipsi, th_contra), axis=1)\n"
   ]
  },
  {
   "cell_type": "markdown",
   "id": "afba3f0c-7cd1-42f2-8699-82d7a594931d",
   "metadata": {},
   "source": [
    "# Subcortical Analysis"
   ]
  },
  {
   "cell_type": "code",
   "execution_count": null,
   "id": "05271d05-0a30-4a21-ae86-63b2de4985af",
   "metadata": {},
   "outputs": [],
   "source": []
  },
  {
   "cell_type": "markdown",
   "id": "386020a6-5ab3-42f4-a631-adfbc94e5cde",
   "metadata": {},
   "source": [
    "# Hippocampal analysis"
   ]
  },
  {
   "cell_type": "code",
   "execution_count": null,
   "id": "217af51c-a46c-42e5-b942-e46410541fde",
   "metadata": {},
   "outputs": [],
   "source": []
  },
  {
   "cell_type": "markdown",
   "id": "62e1d511-e3c7-499d-9485-f665d25d5437",
   "metadata": {},
   "source": [
    "# Mediation analysis"
   ]
  },
  {
   "cell_type": "code",
   "execution_count": null,
   "id": "4ddff489-697e-41bb-9d0a-622baebbf895",
   "metadata": {},
   "outputs": [],
   "source": [
    "df.columns"
   ]
  },
  {
   "cell_type": "code",
   "execution_count": null,
   "id": "2f5b2f29-a96c-4a6d-8797-43dfadd41f74",
   "metadata": {},
   "outputs": [],
   "source": [
    "# Covariates: age, sex, duration, onset (age-duration)\n",
    "# Cognitive metric: Y=df['Epi.Acc.D.per']\n",
    "# Mediator: SC DM{G..n}\n",
    "# "
   ]
  },
  {
   "cell_type": "markdown",
   "id": "a8f85246-6716-4998-a25f-306562378659",
   "metadata": {},
   "source": [
    "# Sex analysis"
   ]
  },
  {
   "cell_type": "code",
   "execution_count": null,
   "id": "c174350d-fbaa-4ef7-89a5-47f97a7bfb93",
   "metadata": {
    "jupyter": {
     "source_hidden": true
    }
   },
   "outputs": [],
   "source": [
    "\n",
    "def plot_mk6240_group_summary_by_sex(slm, mk_matched, df, threshold=0.01):\n",
    "    \"\"\"\n",
    "    Compute and plot group-level MK6240 SUVR summary divided by sex\n",
    "    for ipsilateral and contralateral hemispheres.\n",
    "\n",
    "    Parameters:\n",
    "        slm: Statistical Linear Model object containing p-values under slm.P[\"pval\"][\"C\"]\n",
    "        mk_matched: np.ndarray of shape (n_subjects, n_vertices), matched SUVR values\n",
    "        df: pandas DataFrame with 'group' and 'sex' columns\n",
    "        threshold: float, significance threshold for p-values (default: 0.01)\n",
    "    \"\"\"\n",
    "\n",
    "    # Copy p-values and define hemispheric split\n",
    "    pvalues = np.copy(slm.P[\"pval\"][\"C\"])\n",
    "    n_64k = mk_matched.shape[1]\n",
    "    n_32k = n_64k // 2\n",
    "\n",
    "    mk_ipsi = mk_matched[:, :n_32k]\n",
    "    mk_contra = mk_matched[:, n_32k:]\n",
    "\n",
    "    # Binarize significant vertices\n",
    "    pvalues_bin = (pvalues < threshold).astype(int)\n",
    "    pvalues_bin_ipsi = pvalues_bin[:n_32k]\n",
    "    pvalues_bin_contra = pvalues_bin[n_32k:]\n",
    "\n",
    "    # Compute mean SUVR for significant and all vertices\n",
    "    df = df.copy()  # avoid modifying original\n",
    "    df['mk6240.sig.ipsi'] = np.mean(mk_ipsi[:, pvalues_bin_ipsi == 1], axis=1)\n",
    "    df['mk6240.sig.contra'] = np.mean(mk_contra[:, pvalues_bin_contra == 1], axis=1)\n",
    "    df['mk6240.mean.ipsi'] = np.mean(mk_ipsi, axis=1)\n",
    "    df['mk6240.mean.contra'] = np.mean(mk_contra, axis=1)\n",
    "\n",
    "    # Create combined group-sex label\n",
    "    df['group_sex'] = df['group'] + \"-\" + df['sex']\n",
    "\n",
    "    # Define plotting order\n",
    "    order = [\"Healthy-F\", \"Healthy-M\", \"Patient-F\", \"Patient-M\"]\n",
    "    palette = {\n",
    "        \"Healthy-F\": \"#666666\",\n",
    "        \"Healthy-M\": \"#999999\",\n",
    "        \"Patient-F\": \"#ff7777\",\n",
    "        \"Patient-M\": \"#ff4444\"\n",
    "    }\n",
    "\n",
    "    features = ['mk6240.sig.ipsi', 'mk6240.sig.contra']\n",
    "    titles = ['Ipsilateral', 'Contralateral']\n",
    "\n",
    "    ymin = df[features].min().min()\n",
    "    ymax = df[features].max().max()\n",
    "    buffer = (ymax - ymin) * 0.05\n",
    "\n",
    "    plt.figure(figsize=(10, 3))\n",
    "\n",
    "    for i, (feature, title) in enumerate(zip(features, titles), 1):\n",
    "        plt.subplot(1, 2, i)\n",
    "\n",
    "        sns.stripplot(\n",
    "            data=df,\n",
    "            x='group_sex',\n",
    "            y=feature,\n",
    "            order=order,\n",
    "            hue='group_sex',\n",
    "            palette=palette,\n",
    "            alpha=0.6,\n",
    "            jitter=True,\n",
    "            dodge=False\n",
    "        )\n",
    "\n",
    "        # Overlay mean ± SD per group\n",
    "        for x_pos, label in enumerate(order):\n",
    "            group_data = df[df['group_sex'] == label][feature]\n",
    "            if len(group_data) > 0:\n",
    "                mean_val = group_data.mean()\n",
    "                std_val = group_data.std()\n",
    "                plt.plot(x_pos, mean_val, 'o', color='black')\n",
    "                plt.vlines(x=x_pos, ymin=mean_val - std_val, ymax=mean_val + std_val,\n",
    "                           color='black', linewidth=2)\n",
    "\n",
    "        plt.title(title, fontsize=13)\n",
    "        plt.xlabel('')\n",
    "        plt.ylabel('SUVR')\n",
    "        plt.ylim(ymin - buffer, ymax + buffer)\n",
    "        plt.xticks(rotation=25)\n",
    "        sns.despine()\n",
    "\n",
    "    plt.tight_layout()\n",
    "    plt.show()\n"
   ]
  },
  {
   "cell_type": "code",
   "execution_count": null,
   "id": "8235a34a-ddd8-4ef6-82ce-ce8fcb6b5104",
   "metadata": {},
   "outputs": [],
   "source": [
    "# Cross-tabulation with rows = sex (M/F), columns = (group, mk6240.session)\n",
    "cross_tab = pd.crosstab(\n",
    "    index=df['sex'],\n",
    "    columns=[df['group'], df['mk6240.session']],\n",
    "    margins=False\n",
    ")\n",
    "\n",
    "# Display\n",
    "display(cross_tab)"
   ]
  },
  {
   "cell_type": "code",
   "execution_count": null,
   "id": "59ab17ce-8118-412f-9ac8-60d4499483d5",
   "metadata": {},
   "outputs": [],
   "source": [
    "# Slice data\n",
    "indx = df['sex'] == 'F'\n",
    "\n",
    "# p>0.025 CREATE the mixed effects model\n",
    "slm = mem_groups(Data=tauMK6240[indx,:], df=df[indx], Surf=fslr32k, mask=fslr32k_mask, Cthr=0.01, mem=True,  Pcorr=\"rft\")\n",
    "\n",
    "# Plot t-values\n",
    "plot_ctx_slm(fslr32k_lh, fslr32k_rh, slm, color_range=(-3,3), Str='Only Female', Save=False, Col=\"RdBu_r\", mask=fslr32k_mask,\n",
    "            png_file='/home/bic/rcruces/Desktop/mk6240_tval.png', scale=1 )\n"
   ]
  },
  {
   "cell_type": "code",
   "execution_count": null,
   "id": "6b7396a9-99f9-4d54-b3ac-c64319f3358c",
   "metadata": {},
   "outputs": [],
   "source": [
    "plot_mk6240_group_summary(slm, tauMK6240[indx,:], df[indx], threshold=0.01)"
   ]
  },
  {
   "cell_type": "markdown",
   "id": "76d4a3c7-b065-4a85-b744-f74fe920de6a",
   "metadata": {},
   "source": [
    "### Males"
   ]
  },
  {
   "cell_type": "code",
   "execution_count": null,
   "id": "ef0e9a2e-f5e3-45bb-a231-40b61480952e",
   "metadata": {},
   "outputs": [],
   "source": [
    "# Slice data\n",
    "indx = df['sex'] == 'M'\n",
    "\n",
    "# p>0.025 CREATE the mixed effects model\n",
    "slm = mem_groups(Data=tauMK6240[indx,:], df=df[indx], Surf=fslr32k, mask=fslr32k_mask, Cthr=0.01, mem=True,  Pcorr=\"rft\")\n",
    "\n",
    "# Plot t-values\n",
    "plot_ctx_slm(fslr32k_lh, fslr32k_rh, slm, color_range=(-3,3), Str='Only Male', Save=False, Col=\"RdBu_r\", mask=fslr32k_mask,\n",
    "            png_file='/home/bic/rcruces/Desktop/mk6240_tval.png', scale=1 )\n"
   ]
  },
  {
   "cell_type": "code",
   "execution_count": null,
   "id": "6a36ec10-b8dd-40fa-ab85-e103735aa986",
   "metadata": {},
   "outputs": [],
   "source": [
    "plot_mk6240_group_summary(slm, tauMK6240[indx,:], df[indx], threshold=0.01)"
   ]
  },
  {
   "cell_type": "code",
   "execution_count": null,
   "id": "2abc3b4a-ee94-43b0-a7fc-cb6454b835e0",
   "metadata": {},
   "outputs": [],
   "source": [
    "# Set the terms of the model\n",
    "term_grp = FixedEffect(df['group'])\n",
    "term_age = FixedEffect(df['age'])\n",
    "term_sex = FixedEffect(df['sex'])\n",
    "term_subject = MixedEffect(df['participant_id'])\n",
    "\n",
    "# boolean masks\n",
    "is_healthy = (df.group == 'Healthy')\n",
    "is_patient = (df.group == 'Patient')\n",
    "is_male = (df.sex == 'M')\n",
    "is_female = (df.sex == 'F')\n",
    "\n",
    "# Model is is mixed Subject is set as random Mixed effect variable\n",
    "print(\"Y ~ group + sex + group:sex + age + 1/subject\")\n",
    "model = term_grp + term_sex + term_grp*term_sex + term_age  + term_subject\n",
    "\n",
    "# Group effect IN MALES  -> (Healthy_male) - (Patient_male)\n",
    "contrast_group_male = (is_patient & is_male).astype(int) - (is_healthy & is_male).astype(int)\n",
    "\n",
    "# fitting the model\n",
    "slm_mixed = SLM(\n",
    "        model,\n",
    "        contrast_group_male,\n",
    "        mask=fslr32k_mask,\n",
    "        surf=fslr32k,\n",
    "        correction=\"rft\",\n",
    "        two_tailed=True,\n",
    "        cluster_threshold=0.01\n",
    "    )\n",
    "slm_mixed.fit(tauMK6240)\n",
    "\n",
    "# Plot t-values\n",
    "plot_ctx_slm(fslr32k_lh, fslr32k_rh, slm_mixed, color_range=(-3,3), Str='MEM Male', Save=False, Col=\"RdBu_r\", mask=fslr32k_mask, scale=1 )\n"
   ]
  },
  {
   "cell_type": "code",
   "execution_count": null,
   "id": "af41f1bc-56c3-4736-8aa7-e8d375cfb742",
   "metadata": {},
   "outputs": [],
   "source": [
    "plot_mk6240_group_summary(slm_mixed, tauMK6240, df, threshold=0.01)"
   ]
  },
  {
   "cell_type": "code",
   "execution_count": null,
   "id": "90c93eab-46c6-42cc-88aa-484928dbdc9f",
   "metadata": {},
   "outputs": [],
   "source": [
    "# p>0.025 Plot P-values\n",
    "plot_ctx_pval(fslr32k_lh, fslr32k_rh, slm_mixed, Str='p-values', Col=\"inferno_r\", Thr=0.01, scale=1)\n"
   ]
  },
  {
   "cell_type": "code",
   "execution_count": null,
   "id": "72f41361-8405-403f-a507-52861a1b541b",
   "metadata": {},
   "outputs": [],
   "source": [
    "# Group effect IN FEMALES -> (Healthy_female) - (Patient_female)\n",
    "contrast_group_female = (is_patient & is_female).astype(int) - (is_healthy & is_female).astype(int)\n",
    "\n",
    "# fitting the model\n",
    "slm_mixed = SLM(\n",
    "        model,\n",
    "        contrast_group_female,\n",
    "        mask=fslr32k_mask,\n",
    "        surf=fslr32k,\n",
    "        correction=\"rft\",\n",
    "        two_tailed=True,\n",
    "        cluster_threshold=0.01\n",
    "    )\n",
    "slm_mixed.fit(tauMK6240)\n",
    "\n",
    "# Plot t-values\n",
    "plot_ctx_slm(fslr32k_lh, fslr32k_rh, slm_mixed, color_range=(-3,3), Str='MEM Female', Save=False, Col=\"RdBu_r\", mask=fslr32k_mask, scale=1 )\n"
   ]
  },
  {
   "cell_type": "code",
   "execution_count": null,
   "id": "1bd3dff1-9a27-4842-8afb-6b7e3c340804",
   "metadata": {},
   "outputs": [],
   "source": [
    "plot_mk6240_group_summary(slm_mixed, tauMK6240, df, threshold=0.01)"
   ]
  },
  {
   "cell_type": "code",
   "execution_count": null,
   "id": "df00f87a-e7fa-405a-b06c-5d203bad3954",
   "metadata": {},
   "outputs": [],
   "source": [
    "# p>0.025 Plot P-values\n",
    "plot_ctx_pval(fslr32k_lh, fslr32k_rh, slm_mixed, Str='p-values', Col=\"inferno_r\", Thr=0.01, scale=1)\n"
   ]
  },
  {
   "cell_type": "markdown",
   "id": "2757a6ac-9188-4424-9e8a-6a89cdbd45f1",
   "metadata": {},
   "source": [
    "### Interaction: difference in group effect (Female > Male)"
   ]
  },
  {
   "cell_type": "code",
   "execution_count": null,
   "id": "96da896c-2142-49a3-ba1e-5529aa0d2a82",
   "metadata": {},
   "outputs": [],
   "source": [
    "# Interaction: difference in group effect (Female minus Male)\n",
    "contrast_interaction = contrast_group_female - contrast_group_male\n",
    "\n",
    "# Model is is mixed Subject is set as random Mixed effect variable\n",
    "print(\"Y ~ group + sex + group:sex + age + 1/subject\")\n",
    "model = term_grp + term_sex + term_grp*term_sex + term_age  + term_subject\n",
    "\n",
    "# fitting the model\n",
    "slm_mixed = SLM(\n",
    "        model,\n",
    "        contrast_interaction,\n",
    "        mask=fslr32k_mask,\n",
    "        surf=fslr32k,\n",
    "        correction=\"rft\",\n",
    "        two_tailed=True,\n",
    "        cluster_threshold=0.01\n",
    "    )\n",
    "slm_mixed.fit(tauMK6240)\n",
    "\n",
    "# Plot t-values\n",
    "plot_ctx_slm(fslr32k_lh, fslr32k_rh, slm_mixed, color_range=(-3,3), Str='Interaction F>M', Save=False, Col=\"RdBu_r\", mask=fslr32k_mask, scale=1 )\n",
    "\n"
   ]
  },
  {
   "cell_type": "code",
   "execution_count": null,
   "id": "c5e618c6-78d8-47bb-968d-62639a02a1b4",
   "metadata": {},
   "outputs": [],
   "source": [
    "# p>0.025 Plot P-values\n",
    "plot_ctx_pval(fslr32k_lh, fslr32k_rh, slm_mixed, Str='p-values', Col=\"inferno_r\", Thr=0.01, scale=1)\n"
   ]
  },
  {
   "cell_type": "markdown",
   "id": "1ab7a036-e211-4f5b-89fa-6dc1cb5b9fdc",
   "metadata": {},
   "source": [
    "## Mean MK6240 SUVR of significant areas by group and sex"
   ]
  },
  {
   "cell_type": "code",
   "execution_count": null,
   "id": "7ceadfdf-7a8e-460e-bf66-2b1e609ee6e1",
   "metadata": {},
   "outputs": [],
   "source": [
    "plot_mk6240_group_summary_by_sex(slm_mixed, tauMK6240, df, threshold=0.01)"
   ]
  },
  {
   "cell_type": "markdown",
   "id": "80b0236e-7776-4f26-8271-3562975cbc34",
   "metadata": {},
   "source": [
    "## Mean MK6240 SUVR of significant areas by group only Females"
   ]
  },
  {
   "cell_type": "code",
   "execution_count": null,
   "id": "b994d5f6-e14f-4ce9-84e2-3d9120119a64",
   "metadata": {},
   "outputs": [],
   "source": [
    "plot_mk6240_group_summary(slm_mixed, tauMK6240[df['sex'] == 'F',:], df[df['sex'] == 'F'], threshold=0.01)"
   ]
  },
  {
   "cell_type": "markdown",
   "id": "05ba5640-61b8-4dbc-9c13-e5a3506de7d5",
   "metadata": {},
   "source": [
    "## Mean MK6240 SUVR of significant areas by group only Males"
   ]
  },
  {
   "cell_type": "code",
   "execution_count": null,
   "id": "3bd982b9-b571-4f1d-8848-60d01ef8116c",
   "metadata": {},
   "outputs": [],
   "source": [
    "plot_mk6240_group_summary(slm_mixed, tauMK6240[df['sex'] == 'M',:], df[df['sex'] == 'M'], threshold=0.01)"
   ]
  },
  {
   "cell_type": "code",
   "execution_count": null,
   "id": "3b7355c7-a64b-4263-96e3-9c9527075ed8",
   "metadata": {},
   "outputs": [],
   "source": []
  }
 ],
 "metadata": {
  "kernelspec": {
   "display_name": "Python 3 (ipykernel)",
   "language": "python",
   "name": "python3"
  },
  "language_info": {
   "codemirror_mode": {
    "name": "ipython",
    "version": 3
   },
   "file_extension": ".py",
   "mimetype": "text/x-python",
   "name": "python",
   "nbconvert_exporter": "python",
   "pygments_lexer": "ipython3",
   "version": "3.12.9"
  }
 },
 "nbformat": 4,
 "nbformat_minor": 5
}
