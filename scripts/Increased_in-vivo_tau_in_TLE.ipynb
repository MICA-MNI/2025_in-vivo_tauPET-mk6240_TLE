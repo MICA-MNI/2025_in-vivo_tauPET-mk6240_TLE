{
 "cells": [
  {
   "cell_type": "markdown",
   "metadata": {},
   "source": [
    "# In-vivo evidence for increased tau deposition in temporal lobe epilepsy\n",
    "\n",
    "### Content\n",
    "1. Participants\n",
    "1.  *Figure 1:* Mapping of tau uptake in TLE\n",
    "1.  *Figure 2:* Network contextualization\n",
    "1.  *Figure 3:* Relationship to clinical and cognitive variables\n",
    "1. Supplementary figures\n"
   ]
  },
  {
   "cell_type": "code",
   "execution_count": null,
   "metadata": {},
   "outputs": [],
   "source": [
    "# Libraries\n",
    "import numpy as np\n",
    "import pandas as pd\n",
    "from brainstat.stats.SLM import SLM\n",
    "from brainstat.stats.terms import MixedEffect, FixedEffect\n",
    "from brainstat.datasets import fetch_mask, fetch_template_surface\n",
    "from brainspace.mesh.mesh_io import read_surface\n",
    "from brainspace.plotting import plot_hemispheres\n",
    "\n",
    "# Load utilities functions from utils.py\n",
    "from utils import *"
   ]
  },
  {
   "cell_type": "markdown",
   "metadata": {},
   "source": [
    "### Load data"
   ]
  },
  {
   "cell_type": "code",
   "execution_count": null,
   "metadata": {},
   "outputs": [],
   "source": [
    "osf_path='/Users/rcruces/Desktop/2025/2025_mica_pet/OSF_data'\n",
    "\n",
    "# Load the data frame\n",
    "df = pd.read_csv(f'{osf_path}/18F-MK6240_database.csv')\n",
    "\n",
    "# Load processed 18F-MK6240 PET data | matrix:{vertices x subjects}\n",
    "pet_raw = np.load(f'{osf_path}/18F-MK6240_surf-fsLR-32k_desc-GroupData_smooth-10mm_pvc-probGM_ref-cerebellarGM_trc-MK6240_pet.npy')\n",
    "\n",
    "# Load the cortical thickness data | matrix:{vertices x subjects}\n",
    "cth_raw = np.load(f'{osf_path}/18F-MK6240_surf-fsLR-32k_desc-GroupData_smooth-20mm_thickness.npy')\n",
    "\n",
    "# Load fsLR-32 surface\n",
    "fslr32k_lh, fslr32k_rh = fetch_template_surface(\"fslr32k\", join=False)\n",
    "fslr32k = fetch_template_surface(\"fslr32k\", join=True)\n",
    "\n",
    "# Load fsLR-32k middle wall mask\n",
    "fslr32k_mask = fetch_mask(\"fslr32k\")"
   ]
  },
  {
   "cell_type": "markdown",
   "metadata": {},
   "source": [
    "### Sort the matrices into ipsilateral/contralateral relative to seizure focus"
   ]
  },
  {
   "cell_type": "code",
   "execution_count": null,
   "metadata": {},
   "outputs": [],
   "source": [
    "# fsLR-32k length\n",
    "n_64k = pet_raw.shape[1]\n",
    "n_32k = int(n_64k/2)\n",
    "\n",
    "# Flip R >> L 18F-mk6240\n",
    "mk_ipsi, mk_contra = flip_mat(pet_raw[:,0:n_32k], pet_raw[:,n_32k:n_64k], df['lateralization'].values, flip='R')\n",
    "\n",
    "# Flip R >> L Thickness\n",
    "th_ipsi, th_contra = flip_mat(cth_raw[:,0:n_32k], cth_raw[:,n_32k:n_64k], df['lateralization'].values, flip='R')\n",
    "\n",
    "# Merge ipsi and contra\n",
    "tauMK6240 = np.concatenate((mk_ipsi, mk_contra), axis=1)\n",
    "thickness = np.concatenate((th_ipsi, th_contra), axis=1)\n"
   ]
  },
  {
   "cell_type": "markdown",
   "metadata": {},
   "source": [
    "## Participants"
   ]
  },
  {
   "cell_type": "code",
   "execution_count": null,
   "metadata": {},
   "outputs": [],
   "source": [
    "df\n",
    "\n"
   ]
  },
  {
   "cell_type": "markdown",
   "metadata": {},
   "source": [
    "------------------------\n",
    "## **Figure 1:** Mapping of tau uptake in TLE\n",
    "### A | Mean Tau 18F-MK6240 uptake by group"
   ]
  },
  {
   "cell_type": "code",
   "execution_count": null,
   "metadata": {},
   "outputs": [],
   "source": [
    "# plot data\n",
    "plot_ctx_groups(fslr32k_lh, fslr32k_rh, tauMK6240, df , color_range=(0.5, 2), Save=False, Col='inferno', mask=fslr32k_mask, scale=2)\n"
   ]
  },
  {
   "cell_type": "markdown",
   "metadata": {},
   "source": [
    "### B.1 | Tau 18F-MK6240 uptake group difference"
   ]
  },
  {
   "cell_type": "markdown",
   "metadata": {},
   "source": [
    "### T-values map"
   ]
  },
  {
   "cell_type": "code",
   "execution_count": null,
   "metadata": {},
   "outputs": [],
   "source": [
    "# p>0.025 per tail CREATE the mixed effects model\n",
    "slm = mem_groups(Data=tauMK6240, df=df, Surf=fslr32k, mask=fslr32k_mask, Cthr=0.01, mem=True,  Pcorr=\"rft\")\n",
    "\n",
    "# Plot t-values\n",
    "plot_ctx_slm(fslr32k_lh, fslr32k_rh, slm, color_range=(-3,3), Str='mk p01', Save=False, Col=\"RdBu_r\", mask=fslr32k_mask, scale=2 )\n"
   ]
  },
  {
   "cell_type": "markdown",
   "metadata": {},
   "source": [
    "### P-values map"
   ]
  },
  {
   "cell_type": "code",
   "execution_count": null,
   "metadata": {},
   "outputs": [],
   "source": []
  },
  {
   "cell_type": "markdown",
   "metadata": {},
   "source": [
    "### B.2 | Mean SUVR values for significant regions in each hemisphere by group"
   ]
  },
  {
   "cell_type": "code",
   "execution_count": null,
   "metadata": {},
   "outputs": [],
   "source": []
  },
  {
   "cell_type": "markdown",
   "metadata": {},
   "source": [
    "### C.1 | Subject-Wise Distribution of Cortical MK6240 Uptake\n",
    "### C.1.a | Ridgeplot of TLE subjects"
   ]
  },
  {
   "cell_type": "code",
   "execution_count": null,
   "metadata": {},
   "outputs": [],
   "source": [
    "# Filter mk_matched for the 'Healthy' group\n",
    "healthy_mk_matched = mk_matched[df['group'] == 'Patient', :]\n",
    "\n",
    "# Apply the thr_sig mask to select the appropriate columns\n",
    "filtered_mk_matched = healthy_mk_matched[:, mask]\n",
    "\n",
    "# Now plot using the filtered data\n",
    "plot_ridgeplot(filtered_mk_matched, matrix_df=df[df['group'] == 'Patient'], \n",
    "               title=\"MK6240 distribution in PX\", \n",
    "               Range=(0.5, 2.2), Cmap='inferno', Vline=1.5)\n"
   ]
  },
  {
   "cell_type": "markdown",
   "metadata": {},
   "source": [
    "### C.1.b | Ridgeplot of Healthy controls"
   ]
  },
  {
   "cell_type": "code",
   "execution_count": null,
   "metadata": {},
   "outputs": [],
   "source": [
    "# Filter mk_matched for the 'Healthy' group\n",
    "healthy_mk_matched = mk_matched[df['group'] == 'Healthy', :]\n",
    "\n",
    "# Apply the thr_sig mask to select the appropriate columns\n",
    "filtered_mk_matched = healthy_mk_matched[:, mask]\n",
    "\n",
    "# Now plot using the filtered data\n",
    "plot_ridgeplot(filtered_mk_matched, df[df['group'] == 'Healthy'], \n",
    "               title=\"MK6240 distribution in HC\", \n",
    "               Range=(0.5, 2.2), Cmap='inferno', Vline=1.5)\n"
   ]
  },
  {
   "cell_type": "markdown",
   "metadata": {},
   "source": [
    "### C.2   | Individual examples of of Cortical [$^{18}F$]-MK6240 Uptake\n",
    "\n",
    "### C.2.a | TLE subjects"
   ]
  },
  {
   "cell_type": "code",
   "execution_count": null,
   "metadata": {},
   "outputs": [],
   "source": [
    "# Drop values of df\n",
    "df = df.reset_index(drop=True)\n",
    "\n",
    "# Low mk6240\n",
    "# AGE: 52yrs, DURATION  2yrs, ONSET: 50yrs | PX020_02\n",
    "# AGE: 33yrs, DURATION 15yrs, ONSET: 18yrs | PX050_01\n",
    "\n",
    "# high mk6240\n",
    "# AGE: 45yrs, DURATION 38yrs, ONSET: 7yrs | PX052_01\n",
    "# AGE: 25yrs, DURATION  8yrs, ONSET: 17yrs | PX060_02\n",
    "mk_list = [mk_matched[df.index[df['id'] == 'PX020_02'][0],:],\n",
    "    mk_matched[df.index[df['id'] == 'PX050_01'][0],:],\n",
    "    mk_matched[df.index[df['id'] == 'PX052_01'][0],:],\n",
    "    mk_matched[df.index[df['id'] == 'PX060_02'][0],:] ]\n",
    "\n",
    "# Plot subjects\n",
    "plot_hemispheres(surf_lh, surf_rh, array_name=mk_list, size=(900, 1000),\n",
    "                         color_bar='bottom', zoom=1.25, embed_nb=True,\n",
    "                         interactive=False, share='both',\n",
    "                         nan_color=(0, 0, 0, 1), color_range=(0.5, 2),\n",
    "                         cmap='inferno', transparent_bg=True, label_text=['PXlow1', 'PXlow2','PXhigh1', 'PXhigh2'],\n",
    "                         screenshot=False, filename='/home/bic/rcruces/Desktop/mk6240_PX-subjects.png', scale=1)\n"
   ]
  },
  {
   "cell_type": "markdown",
   "metadata": {},
   "source": [
    "### C.2.b | Healthy controls"
   ]
  },
  {
   "cell_type": "markdown",
   "metadata": {},
   "source": [
    "# Subset of subjects HC\n",
    "mk_list = [mk_matched[df.index[df['id'] == 'HC062_01'][0],:], \n",
    "    mk_matched[df.index[df['id'] == 'HC010_02'][0],:],\n",
    "    mk_matched[df.index[df['id'] == 'HC057_02'][0],:],\n",
    "    mk_matched[df.index[df['id'] == 'HC014_01'][0],:]\n",
    "          ]\n",
    "\n",
    "# Plot subjects\n",
    "plot_hemispheres(surf_lh, surf_rh, array_name=mk_list, size=(900, 1000),\n",
    "                         color_bar='bottom', zoom=1.25, embed_nb=True,\n",
    "                         interactive=False, share='both',\n",
    "                         nan_color=(0, 0, 0, 1), color_range=(0.5, 2.2),\n",
    "                         cmap='inferno', transparent_bg=True, label_text=['HClow1', 'HClow2', 'HChigh1', 'HChigh2'],\n",
    "                         screenshot=False, scale=1)\n"
   ]
  },
  {
   "cell_type": "markdown",
   "metadata": {},
   "source": [
    "----------------\n",
    "## **Figure 2:** Network contextualization\n",
    "### A | Relationship Between Tau MK6240 Group Differences and Functional Connectome"
   ]
  },
  {
   "cell_type": "code",
   "execution_count": null,
   "metadata": {},
   "outputs": [],
   "source": []
  },
  {
   "cell_type": "markdown",
   "metadata": {},
   "source": [
    "### Mean functional connectome as adjacency matrix"
   ]
  },
  {
   "cell_type": "code",
   "execution_count": null,
   "metadata": {},
   "outputs": [],
   "source": []
  },
  {
   "cell_type": "markdown",
   "metadata": {},
   "source": [
    "### Mean functional connectome as network"
   ]
  },
  {
   "cell_type": "code",
   "execution_count": null,
   "metadata": {},
   "outputs": [],
   "source": []
  },
  {
   "cell_type": "markdown",
   "metadata": {},
   "source": [
    "### Tau MK6240 weighted by the functional connectome neighbours"
   ]
  },
  {
   "cell_type": "code",
   "execution_count": null,
   "metadata": {},
   "outputs": [],
   "source": []
  },
  {
   "cell_type": "markdown",
   "metadata": {},
   "source": [
    "### B | Relationship Between Tau MK6240 Group Differences and Structural Connectome"
   ]
  },
  {
   "cell_type": "code",
   "execution_count": null,
   "metadata": {},
   "outputs": [],
   "source": []
  },
  {
   "cell_type": "markdown",
   "metadata": {},
   "source": [
    "### Mean structural connectome as adjacency matrix"
   ]
  },
  {
   "cell_type": "code",
   "execution_count": null,
   "metadata": {},
   "outputs": [],
   "source": []
  },
  {
   "cell_type": "markdown",
   "metadata": {},
   "source": [
    "### Mean structural connectome as network"
   ]
  },
  {
   "cell_type": "code",
   "execution_count": null,
   "metadata": {},
   "outputs": [],
   "source": []
  },
  {
   "cell_type": "markdown",
   "metadata": {},
   "source": [
    "### Tau MK6240 weighted by the structural connectome neighbours"
   ]
  },
  {
   "cell_type": "code",
   "execution_count": null,
   "metadata": {},
   "outputs": [],
   "source": []
  },
  {
   "cell_type": "markdown",
   "metadata": {},
   "source": [
    "-----------------\n",
    "## **Figure 3:** Relationship to clinical and cognitive variables\n",
    "\n",
    "### A | Tau MK6240 SUVR and clinical relationships"
   ]
  },
  {
   "cell_type": "markdown",
   "metadata": {},
   "source": [
    "### Effect of age"
   ]
  },
  {
   "cell_type": "code",
   "execution_count": null,
   "metadata": {},
   "outputs": [],
   "source": []
  },
  {
   "cell_type": "markdown",
   "metadata": {},
   "source": [
    "### Effect of duration"
   ]
  },
  {
   "cell_type": "code",
   "execution_count": null,
   "metadata": {},
   "outputs": [],
   "source": []
  },
  {
   "cell_type": "markdown",
   "metadata": {},
   "source": [
    "### B | Tau MK6240 SUVR and behavioral relationships"
   ]
  },
  {
   "cell_type": "markdown",
   "metadata": {},
   "source": [
    "### Epitrack score"
   ]
  },
  {
   "cell_type": "code",
   "execution_count": null,
   "metadata": {},
   "outputs": [],
   "source": []
  },
  {
   "cell_type": "markdown",
   "metadata": {},
   "source": [
    "### Episodic memory"
   ]
  },
  {
   "cell_type": "code",
   "execution_count": null,
   "metadata": {},
   "outputs": [],
   "source": []
  },
  {
   "cell_type": "markdown",
   "metadata": {},
   "source": [
    "### Semantic memory"
   ]
  },
  {
   "cell_type": "code",
   "execution_count": null,
   "metadata": {},
   "outputs": [],
   "source": []
  },
  {
   "cell_type": "markdown",
   "metadata": {},
   "source": [
    "---------------------\n",
    "# Supplementary figures"
   ]
  },
  {
   "cell_type": "markdown",
   "metadata": {},
   "source": [
    "## Cortical map of abnormal MK6240 SUVR probability"
   ]
  },
  {
   "cell_type": "code",
   "execution_count": null,
   "metadata": {},
   "outputs": [],
   "source": [
    "# Create a new matrix with values higher than 1.5 set to 1, rest set to 0\n",
    "mk_bin = np.where(mk_matched > 1.5, 1, 0)\n",
    "\n",
    "# plot data\n",
    "plot_ctx_groups(surf_lh, surf_rh, mk_bin, df , color_range=(-0.75,0.75), \n",
    "                Save=False, Col='RdBu_r', mask=mask_32k, scale=2)\n"
   ]
  },
  {
   "cell_type": "markdown",
   "metadata": {},
   "source": [
    "## Group difference in cortical thickness"
   ]
  },
  {
   "cell_type": "code",
   "execution_count": null,
   "metadata": {},
   "outputs": [],
   "source": []
  },
  {
   "cell_type": "markdown",
   "metadata": {},
   "source": [
    "## Group difference in MK6240 controlled by thickness"
   ]
  },
  {
   "cell_type": "code",
   "execution_count": null,
   "metadata": {},
   "outputs": [],
   "source": []
  },
  {
   "cell_type": "markdown",
   "metadata": {},
   "source": [
    "## Mean longitudinal MK6240 by subject per group"
   ]
  },
  {
   "cell_type": "code",
   "execution_count": null,
   "metadata": {},
   "outputs": [],
   "source": []
  }
 ],
 "metadata": {
  "kernelspec": {
   "display_name": "Python 3 (ipykernel)",
   "language": "python",
   "name": "python3"
  },
  "language_info": {
   "codemirror_mode": {
    "name": "ipython",
    "version": 3
   },
   "file_extension": ".py",
   "mimetype": "text/x-python",
   "name": "python",
   "nbconvert_exporter": "python",
   "pygments_lexer": "ipython3",
   "version": "3.12.2"
  }
 },
 "nbformat": 4,
 "nbformat_minor": 4
}
